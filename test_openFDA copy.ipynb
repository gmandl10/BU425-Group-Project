{
 "cells": [
  {
   "cell_type": "code",
   "execution_count": 2,
   "metadata": {},
   "outputs": [
    {
     "name": "stdout",
     "output_type": "stream",
     "text": [
      "Error: Unable to fetch data. Status code: 400\n"
     ]
    }
   ],
   "source": [
    "import requests\n",
    "\n",
    "# Define the API endpoint URL\n",
    "api_url = \"https://api.fda.gov/food/event.json?search=date_started:[20040101+TO+20160101]&limit=1\"\n",
    "\n",
    "# Define your query parameters\n",
    "params = {\n",
    "    \"search\": \"openfda.manufacturer_name: Pfizer\",\n",
    "    \"limit\": 10,  # Limit the number of results (adjust as needed)\n",
    "}\n",
    "\n",
    "try:\n",
    "    # Make a GET request to the OpenFDA API\n",
    "    response = requests.get(api_url, params=params)\n",
    "\n",
    "    # Check if the request was successful (status code 200)\n",
    "    if response.status_code == 200:\n",
    "        # Parse the JSON response\n",
    "        data = response.json()\n",
    "\n",
    "        # Access and process the data as needed\n",
    "        events = data.get(\"results\", [])\n",
    "        for event in events:\n",
    "            print(\"Event ID:\", event.get(\"safetyreportid\"))\n",
    "            print(\"Manufacturer:\", event.get(\"openfda\", {}).get(\"manufacturer_name\", \"N/A\"))\n",
    "            print(\"Reported Date:\", event.get(\"receivedate\"))\n",
    "            print()\n",
    "\n",
    "    else:\n",
    "        print(\"Error: Unable to fetch data. Status code:\", response.status_code)\n",
    "\n",
    "except Exception as e:\n",
    "    print(\"An error occurred:\", str(e))\n"
   ]
  }
 ],
 "metadata": {
  "kernelspec": {
   "display_name": "Python 3",
   "language": "python",
   "name": "python3"
  },
  "language_info": {
   "codemirror_mode": {
    "name": "ipython",
    "version": 3
   },
   "file_extension": ".py",
   "mimetype": "text/x-python",
   "name": "python",
   "nbconvert_exporter": "python",
   "pygments_lexer": "ipython3",
   "version": "3.11.4"
  },
  "orig_nbformat": 4
 },
 "nbformat": 4,
 "nbformat_minor": 2
}
